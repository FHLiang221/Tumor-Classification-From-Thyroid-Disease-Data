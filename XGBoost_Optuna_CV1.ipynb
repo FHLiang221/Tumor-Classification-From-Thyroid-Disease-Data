{
 "cells": [
  {
   "cell_type": "markdown",
   "id": "95bc7d79",
   "metadata": {},
   "source": [
    "# XGBoost for Ordinal Dataset with Imbalance Handling, Cross-Validation, and Optuna"
   ]
  },
  {
   "cell_type": "code",
   "execution_count": 1,
   "id": "12fac401",
   "metadata": {},
   "outputs": [],
   "source": [
    "# Import necessary libraries\n",
    "import pandas as pd\n",
    "from sklearn.model_selection import train_test_split, StratifiedKFold\n",
    "from sklearn.preprocessing import LabelEncoder\n",
    "from sklearn.utils.class_weight import compute_class_weight\n",
    "from sklearn.metrics import classification_report, confusion_matrix, accuracy_score\n",
    "from imblearn.over_sampling import SMOTE\n",
    "from xgboost import XGBClassifier\n",
    "import optuna\n",
    "import numpy as np\n",
    "import kagglehub\n",
    "    "
   ]
  },
  {
   "cell_type": "markdown",
   "id": "ff38c571",
   "metadata": {},
   "source": [
    "## Load and Prepare Data"
   ]
  },
  {
   "cell_type": "code",
   "execution_count": 2,
   "id": "e8260444",
   "metadata": {},
   "outputs": [
    {
     "name": "stdout",
     "output_type": "stream",
     "text": [
      "Warning: Looks like you're using an outdated `kagglehub` version, please consider updating (latest version: 0.3.4)\n"
     ]
    }
   ],
   "source": [
    "path = kagglehub.dataset_download(\"jainaru/thyroid-disease-data\")\n",
    "path = f\"{path}/Thyroid_Diff.csv\"\n",
    "data = pd.read_csv(path) #uses pandas to read the CSV file into dataframe named 'data'\n",
    "data = data.sample(frac=1, random_state=1) #randomly shuffles the rows in the 'data'\n",
    "\n",
    "# Encode target column (Ordinal Mapping)\n",
    "tumor_mapping = {'T1a': 0, 'T1b': 1, 'T2': 2, 'T3a': 3, 'T3b': 4, 'T4a': 5, 'T4b': 6}\n",
    "data['T_numeric'] = data['T'].map(tumor_mapping)\n",
    "\n",
    "# Convert categorical columns to 'category' dtype\n",
    "categorical_columns = ['Gender', 'Smoking', 'Hx Smoking', 'Hx Radiothreapy', 'Thyroid Function', \n",
    "                       'Physical Examination', 'Adenopathy', 'Pathology', 'Focality', 'Risk', \n",
    "                       'N', 'M', 'Stage', 'Response', 'Recurred']\n",
    "for col in categorical_columns:\n",
    "    data[col] = data[col].astype('category')\n",
    "\n",
    "# Define features and target\n",
    "X = data.drop(columns=['T', 'T_numeric'])  # Drop target columns from features\n",
    "#X = data.drop(columns=['T', 'T_numeric', 'N', 'M', 'Stage', 'Response', 'Recurred'])  # Drop past T as well\n",
    "y = data['T_numeric']\n"
   ]
  },
  {
   "cell_type": "markdown",
   "id": "be058042",
   "metadata": {},
   "source": [
    "## Calculate Class Weights"
   ]
  },
  {
   "cell_type": "code",
   "execution_count": 3,
   "id": "b7a3f08d",
   "metadata": {},
   "outputs": [],
   "source": [
    "\n",
    "# Compute class weights\n",
    "class_weights = compute_class_weight('balanced', classes=np.unique(y), y=y)\n",
    "class_weights_dict = {i: w for i, w in enumerate(class_weights)}\n",
    "\n",
    "# Add sample weights to XGBoost\n",
    "sample_weights = y.map(class_weights_dict)\n",
    "    "
   ]
  },
  {
   "cell_type": "markdown",
   "id": "8f21658c",
   "metadata": {},
   "source": [
    "## Define and Optimize XGBoost Using Optuna with Cross-Validation"
   ]
  },
  {
   "cell_type": "code",
   "execution_count": 4,
   "id": "6ba70f3a",
   "metadata": {},
   "outputs": [
    {
     "name": "stderr",
     "output_type": "stream",
     "text": [
      "[I 2024-11-17 00:38:10,256] A new study created in memory with name: no-name-f70f17aa-d115-40c5-b4db-3b9b03d1c828\n",
      "[I 2024-11-17 00:38:12,313] Trial 0 finished with value: 0.34982911825017093 and parameters: {'max_depth': 4, 'learning_rate': 0.20307275271873215, 'n_estimators': 242, 'subsample': 0.6583797523136187, 'colsample_bytree': 0.5758823835728761, 'gamma': 4.653855161700843, 'reg_alpha': 4.521255739673554, 'reg_lambda': 0.38457293853952246}. Best is trial 0 with value: 0.34982911825017093.\n",
      "[I 2024-11-17 00:38:17,139] Trial 1 finished with value: 0.5562884483937116 and parameters: {'max_depth': 13, 'learning_rate': 0.046498939018230184, 'n_estimators': 364, 'subsample': 0.8137861931072348, 'colsample_bytree': 0.9533671614043828, 'gamma': 0.21833178533176956, 'reg_alpha': 0.7240836518015326, 'reg_lambda': 9.574201392491169}. Best is trial 1 with value: 0.5562884483937116.\n",
      "[I 2024-11-17 00:38:20,060] Trial 2 finished with value: 0.4178058783321942 and parameters: {'max_depth': 3, 'learning_rate': 0.2152795059743337, 'n_estimators': 262, 'subsample': 0.6436782907808933, 'colsample_bytree': 0.7051912293182296, 'gamma': 2.2840415391212927, 'reg_alpha': 2.4236690481498613, 'reg_lambda': 4.826600969421215}. Best is trial 1 with value: 0.5562884483937116.\n",
      "[I 2024-11-17 00:38:21,968] Trial 3 finished with value: 0.31073137388926864 and parameters: {'max_depth': 7, 'learning_rate': 0.05724177285963468, 'n_estimators': 307, 'subsample': 0.6745158464032983, 'colsample_bytree': 0.8442625092593375, 'gamma': 4.525136937686107, 'reg_alpha': 6.839959385741726, 'reg_lambda': 5.337668373560324}. Best is trial 1 with value: 0.5562884483937116.\n",
      "[I 2024-11-17 00:38:22,612] Trial 4 finished with value: 0.36568694463431306 and parameters: {'max_depth': 6, 'learning_rate': 0.020579386707094718, 'n_estimators': 64, 'subsample': 0.9744530449557365, 'colsample_bytree': 0.6900999037379442, 'gamma': 1.6588359075751935, 'reg_alpha': 9.125593248862678, 'reg_lambda': 8.666559348186434}. Best is trial 1 with value: 0.5562884483937116.\n",
      "[I 2024-11-17 00:38:23,273] Trial 5 finished with value: 0.3263157894736842 and parameters: {'max_depth': 4, 'learning_rate': 0.14041136197425466, 'n_estimators': 102, 'subsample': 0.9464252397670554, 'colsample_bytree': 0.5891471279536915, 'gamma': 3.0570358184748336, 'reg_alpha': 8.694197111657587, 'reg_lambda': 2.3762872043614403}. Best is trial 1 with value: 0.5562884483937116.\n",
      "[I 2024-11-17 00:38:23,896] Trial 6 finished with value: 0.31859193438140804 and parameters: {'max_depth': 14, 'learning_rate': 0.08657820035320106, 'n_estimators': 123, 'subsample': 0.5238020524527345, 'colsample_bytree': 0.9750285179562799, 'gamma': 4.884156897646022, 'reg_alpha': 4.187184605606423, 'reg_lambda': 8.511475572648147}. Best is trial 1 with value: 0.5562884483937116.\n",
      "[I 2024-11-17 00:38:25,426] Trial 7 finished with value: 0.36828434723171566 and parameters: {'max_depth': 15, 'learning_rate': 0.06622996058606662, 'n_estimators': 288, 'subsample': 0.9632949734162228, 'colsample_bytree': 0.7780184744328089, 'gamma': 3.950001776813001, 'reg_alpha': 5.7422794861226345, 'reg_lambda': 8.240285488501733}. Best is trial 1 with value: 0.5562884483937116.\n",
      "[I 2024-11-17 00:38:26,961] Trial 8 finished with value: 0.32634996582365006 and parameters: {'max_depth': 7, 'learning_rate': 0.22493065934847561, 'n_estimators': 305, 'subsample': 0.5312217545757011, 'colsample_bytree': 0.5760099772051562, 'gamma': 2.8165222145177395, 'reg_alpha': 5.918419312667295, 'reg_lambda': 7.476140053700591}. Best is trial 1 with value: 0.5562884483937116.\n",
      "[I 2024-11-17 00:38:29,042] Trial 9 finished with value: 0.32375256322624746 and parameters: {'max_depth': 8, 'learning_rate': 0.2657541605818698, 'n_estimators': 500, 'subsample': 0.5385361225859238, 'colsample_bytree': 0.9267142730153752, 'gamma': 3.2525259966074604, 'reg_alpha': 6.145253174727152, 'reg_lambda': 9.90590920795605}. Best is trial 1 with value: 0.5562884483937116.\n",
      "[I 2024-11-17 00:38:32,717] Trial 10 finished with value: 0.5615174299384825 and parameters: {'max_depth': 12, 'learning_rate': 0.12995726574490687, 'n_estimators': 454, 'subsample': 0.8270265738847999, 'colsample_bytree': 0.882070046565189, 'gamma': 0.3202466527139029, 'reg_alpha': 0.0717347364640728, 'reg_lambda': 5.935187867797728}. Best is trial 10 with value: 0.5615174299384825.\n",
      "[I 2024-11-17 00:38:37,362] Trial 11 finished with value: 0.5823991797676008 and parameters: {'max_depth': 12, 'learning_rate': 0.13065383273753664, 'n_estimators': 462, 'subsample': 0.8341187859240357, 'colsample_bytree': 0.8917744175370301, 'gamma': 0.09973705628443508, 'reg_alpha': 0.5570473698432047, 'reg_lambda': 5.910608897461655}. Best is trial 11 with value: 0.5823991797676008.\n",
      "[I 2024-11-17 00:38:41,090] Trial 12 finished with value: 0.5875939849624061 and parameters: {'max_depth': 11, 'learning_rate': 0.13564972722298402, 'n_estimators': 478, 'subsample': 0.8334554665510869, 'colsample_bytree': 0.8548736374527126, 'gamma': 0.06418150832896533, 'reg_alpha': 0.2771936097879935, 'reg_lambda': 5.948727084557943}. Best is trial 12 with value: 0.5875939849624061.\n",
      "[I 2024-11-17 00:38:43,836] Trial 13 finished with value: 0.49880382775119614 and parameters: {'max_depth': 11, 'learning_rate': 0.11025877092350957, 'n_estimators': 421, 'subsample': 0.857270790917214, 'colsample_bytree': 0.8220586561740401, 'gamma': 1.127122373257028, 'reg_alpha': 1.8649143163324, 'reg_lambda': 3.7747288366658056}. Best is trial 12 with value: 0.5875939849624061.\n",
      "[I 2024-11-17 00:38:46,566] Trial 14 finished with value: 0.48571428571428577 and parameters: {'max_depth': 11, 'learning_rate': 0.1817486560753265, 'n_estimators': 404, 'subsample': 0.7597879892766071, 'colsample_bytree': 0.8684597274271529, 'gamma': 0.9405863002410413, 'reg_alpha': 2.524569215125511, 'reg_lambda': 6.6286053255514625}. Best is trial 12 with value: 0.5875939849624061.\n",
      "[I 2024-11-17 00:38:49,527] Trial 15 finished with value: 0.5980861244019138 and parameters: {'max_depth': 10, 'learning_rate': 0.16448093530100713, 'n_estimators': 495, 'subsample': 0.8641545932371121, 'colsample_bytree': 0.7755086140866356, 'gamma': 0.02186238870915474, 'reg_alpha': 1.2526083263937413, 'reg_lambda': 3.4393688635155324}. Best is trial 15 with value: 0.5980861244019138.\n",
      "[I 2024-11-17 00:38:50,949] Trial 16 finished with value: 0.48841421736158586 and parameters: {'max_depth': 10, 'learning_rate': 0.17330859955653366, 'n_estimators': 372, 'subsample': 0.8936493780494237, 'colsample_bytree': 0.7638001914573895, 'gamma': 1.0026895770044677, 'reg_alpha': 3.4601007841398843, 'reg_lambda': 3.0828777893959707}. Best is trial 15 with value: 0.5980861244019138.\n",
      "[I 2024-11-17 00:38:52,823] Trial 17 finished with value: 0.5173274094326725 and parameters: {'max_depth': 9, 'learning_rate': 0.24934268366512224, 'n_estimators': 499, 'subsample': 0.7470227241831768, 'colsample_bytree': 0.6665526631252824, 'gamma': 1.901745318052901, 'reg_alpha': 1.3904546627438503, 'reg_lambda': 0.5306504145838442}. Best is trial 15 with value: 0.5980861244019138.\n",
      "[I 2024-11-17 00:38:53,736] Trial 18 finished with value: 0.5326384142173616 and parameters: {'max_depth': 9, 'learning_rate': 0.29855740403116715, 'n_estimators': 198, 'subsample': 0.9022868961975603, 'colsample_bytree': 0.5107386737358093, 'gamma': 0.5607499181738246, 'reg_alpha': 2.8969577750932602, 'reg_lambda': 1.7261418865481568}. Best is trial 15 with value: 0.5980861244019138.\n",
      "[I 2024-11-17 00:38:55,442] Trial 19 finished with value: 0.4989063568010936 and parameters: {'max_depth': 10, 'learning_rate': 0.1678266938503947, 'n_estimators': 352, 'subsample': 0.7692391653508305, 'colsample_bytree': 0.7737548877422334, 'gamma': 1.4830828513531864, 'reg_alpha': 1.3246572098351415, 'reg_lambda': 3.700792306008757}. Best is trial 15 with value: 0.5980861244019138.\n",
      "[I 2024-11-17 00:38:57,115] Trial 20 finished with value: 0.39176349965823654 and parameters: {'max_depth': 13, 'learning_rate': 0.09994914296732099, 'n_estimators': 447, 'subsample': 0.9033868369364291, 'colsample_bytree': 0.8083255260008814, 'gamma': 0.6746077182279993, 'reg_alpha': 7.723138311612273, 'reg_lambda': 4.137600925372593}. Best is trial 15 with value: 0.5980861244019138.\n",
      "[I 2024-11-17 00:39:01,576] Trial 21 finished with value: 0.5589200273410799 and parameters: {'max_depth': 12, 'learning_rate': 0.12921940398527407, 'n_estimators': 457, 'subsample': 0.8030714053537985, 'colsample_bytree': 0.9111241842353346, 'gamma': 0.023522101584274924, 'reg_alpha': 0.022944537896564754, 'reg_lambda': 6.823874469106162}. Best is trial 15 with value: 0.5980861244019138.\n",
      "[I 2024-11-17 00:39:03,896] Trial 22 finished with value: 0.5877306903622692 and parameters: {'max_depth': 11, 'learning_rate': 0.15405680996784152, 'n_estimators': 479, 'subsample': 0.7135751000788939, 'colsample_bytree': 0.7310719643639887, 'gamma': 0.17749251382487907, 'reg_alpha': 0.8631217173596983, 'reg_lambda': 5.0512671766843855}. Best is trial 15 with value: 0.5980861244019138.\n",
      "[I 2024-11-17 00:39:05,542] Trial 23 finished with value: 0.5250854408749145 and parameters: {'max_depth': 10, 'learning_rate': 0.15347686050121662, 'n_estimators': 404, 'subsample': 0.7032757819047617, 'colsample_bytree': 0.7203709493002886, 'gamma': 0.5926820049664734, 'reg_alpha': 1.2378312751911822, 'reg_lambda': 4.812861816291363}. Best is trial 15 with value: 0.5980861244019138.\n",
      "[I 2024-11-17 00:39:06,973] Trial 24 finished with value: 0.4152084757347915 and parameters: {'max_depth': 11, 'learning_rate': 0.19076996738728008, 'n_estimators': 468, 'subsample': 0.6042164059544122, 'colsample_bytree': 0.6555445833543633, 'gamma': 1.452102971426207, 'reg_alpha': 3.7557645210395774, 'reg_lambda': 2.3950745140258327}. Best is trial 15 with value: 0.5980861244019138.\n",
      "[I 2024-11-17 00:39:08,712] Trial 25 finished with value: 0.5380724538619276 and parameters: {'max_depth': 8, 'learning_rate': 0.1573405550465224, 'n_estimators': 499, 'subsample': 0.7334025656331098, 'colsample_bytree': 0.736488279042251, 'gamma': 0.5851711303899239, 'reg_alpha': 1.8773970341015906, 'reg_lambda': 4.40486524770632}. Best is trial 15 with value: 0.5980861244019138.\n",
      "[I 2024-11-17 00:39:10,247] Trial 26 finished with value: 0.4831852358168147 and parameters: {'max_depth': 13, 'learning_rate': 0.10580481422927537, 'n_estimators': 414, 'subsample': 0.7851490189297262, 'colsample_bytree': 0.8339951990630073, 'gamma': 2.2022255958577093, 'reg_alpha': 0.6884183800295427, 'reg_lambda': 3.1087725867595633}. Best is trial 15 with value: 0.5980861244019138.\n",
      "[I 2024-11-17 00:39:11,437] Trial 27 finished with value: 0.4726930963773069 and parameters: {'max_depth': 15, 'learning_rate': 0.22890359348531025, 'n_estimators': 335, 'subsample': 0.8742878223100863, 'colsample_bytree': 0.7996729337604171, 'gamma': 1.0486347964143705, 'reg_alpha': 3.28317876117658, 'reg_lambda': 5.588047972269022}. Best is trial 15 with value: 0.5980861244019138.\n",
      "[I 2024-11-17 00:39:12,332] Trial 28 finished with value: 0.5276828434723171 and parameters: {'max_depth': 10, 'learning_rate': 0.15020782155444418, 'n_estimators': 201, 'subsample': 0.7112193329354026, 'colsample_bytree': 0.6262490358545786, 'gamma': 0.3694697664513456, 'reg_alpha': 2.046717404866395, 'reg_lambda': 6.563326281245868}. Best is trial 15 with value: 0.5980861244019138.\n",
      "[I 2024-11-17 00:39:13,585] Trial 29 finished with value: 0.3890293916609706 and parameters: {'max_depth': 11, 'learning_rate': 0.1955383933291103, 'n_estimators': 384, 'subsample': 0.9325619005661051, 'colsample_bytree': 0.7580658329242456, 'gamma': 3.7854365441066915, 'reg_alpha': 4.935994285834367, 'reg_lambda': 0.718418119668681}. Best is trial 15 with value: 0.5980861244019138.\n",
      "[I 2024-11-17 00:39:15,194] Trial 30 finished with value: 0.517053998632946 and parameters: {'max_depth': 8, 'learning_rate': 0.20489041494688606, 'n_estimators': 432, 'subsample': 0.621896414701063, 'colsample_bytree': 0.8527274876569864, 'gamma': 1.2725531934850403, 'reg_alpha': 1.00638181399548, 'reg_lambda': 1.2595227952347008}. Best is trial 15 with value: 0.5980861244019138.\n",
      "[I 2024-11-17 00:39:19,034] Trial 31 finished with value: 0.579835953520164 and parameters: {'max_depth': 12, 'learning_rate': 0.12702822265249444, 'n_estimators': 479, 'subsample': 0.8470884887600482, 'colsample_bytree': 0.9051453554393717, 'gamma': 0.019698809032054475, 'reg_alpha': 0.4216159481436508, 'reg_lambda': 6.025428972574283}. Best is trial 15 with value: 0.5980861244019138.\n",
      "[I 2024-11-17 00:39:22,411] Trial 32 finished with value: 0.5720779220779221 and parameters: {'max_depth': 12, 'learning_rate': 0.08541249263370794, 'n_estimators': 469, 'subsample': 0.8299128028198361, 'colsample_bytree': 0.9532461439089187, 'gamma': 0.09751903804061987, 'reg_alpha': 0.6558735447757256, 'reg_lambda': 7.413826644673895}. Best is trial 15 with value: 0.5980861244019138.\n",
      "[I 2024-11-17 00:39:24,099] Trial 33 finished with value: 0.5119275461380725 and parameters: {'max_depth': 14, 'learning_rate': 0.11574181760375249, 'n_estimators': 438, 'subsample': 0.799684717995511, 'colsample_bytree': 0.7977034562480135, 'gamma': 0.8289203693777045, 'reg_alpha': 1.5288551728682913, 'reg_lambda': 5.076516993049428}. Best is trial 15 with value: 0.5980861244019138.\n",
      "[I 2024-11-17 00:39:26,238] Trial 34 finished with value: 0.5797676008202324 and parameters: {'max_depth': 13, 'learning_rate': 0.16419910524003073, 'n_estimators': 471, 'subsample': 0.6755678488387284, 'colsample_bytree': 0.9990129211071457, 'gamma': 0.33934556029275437, 'reg_alpha': 0.06361469567367994, 'reg_lambda': 6.016514956200047}. Best is trial 15 with value: 0.5980861244019138.\n",
      "[I 2024-11-17 00:39:27,820] Trial 35 finished with value: 0.5406015037593985 and parameters: {'max_depth': 9, 'learning_rate': 0.1438942848864402, 'n_estimators': 392, 'subsample': 0.8310326838093518, 'colsample_bytree': 0.8867090363326313, 'gamma': 0.2759209249780551, 'reg_alpha': 2.3414870515951747, 'reg_lambda': 4.828407328352835}. Best is trial 15 with value: 0.5980861244019138.\n",
      "[I 2024-11-17 00:39:30,576] Trial 36 finished with value: 0.5563568010936432 and parameters: {'max_depth': 11, 'learning_rate': 0.08494554266220647, 'n_estimators': 339, 'subsample': 0.9232167476084102, 'colsample_bytree': 0.7040726390621407, 'gamma': 0.02230668705635783, 'reg_alpha': 0.8285978732383592, 'reg_lambda': 7.332733621006858}. Best is trial 15 with value: 0.5980861244019138.\n",
      "[I 2024-11-17 00:39:32,522] Trial 37 finished with value: 0.4361244019138756 and parameters: {'max_depth': 14, 'learning_rate': 0.18065354784573318, 'n_estimators': 430, 'subsample': 0.871695226429012, 'colsample_bytree': 0.8450147702521981, 'gamma': 1.8283785054694461, 'reg_alpha': 2.9611986351622783, 'reg_lambda': 5.554018846596645}. Best is trial 15 with value: 0.5980861244019138.\n",
      "[I 2024-11-17 00:39:33,935] Trial 38 finished with value: 0.43609022556390975 and parameters: {'max_depth': 4, 'learning_rate': 0.015519887879118677, 'n_estimators': 229, 'subsample': 0.9922297976607508, 'colsample_bytree': 0.7339994400861846, 'gamma': 0.8157597442392899, 'reg_alpha': 4.23605271430256, 'reg_lambda': 4.434264524702503}. Best is trial 15 with value: 0.5980861244019138.\n",
      "[I 2024-11-17 00:39:36,721] Trial 39 finished with value: 0.5614832535885167 and parameters: {'max_depth': 6, 'learning_rate': 0.047283362386020586, 'n_estimators': 482, 'subsample': 0.7816762078443606, 'colsample_bytree': 0.9333613938655159, 'gamma': 0.4352959844470048, 'reg_alpha': 0.4404102796044105, 'reg_lambda': 3.2407629085758844}. Best is trial 15 with value: 0.5980861244019138.\n",
      "[I 2024-11-17 00:39:37,215] Trial 40 finished with value: 0.42053998632946 and parameters: {'max_depth': 10, 'learning_rate': 0.13687266849644372, 'n_estimators': 123, 'subsample': 0.722324611393035, 'colsample_bytree': 0.6872534307313803, 'gamma': 2.4391739116778077, 'reg_alpha': 1.7223272992373506, 'reg_lambda': 9.05595870360278}. Best is trial 15 with value: 0.5980861244019138.\n",
      "[I 2024-11-17 00:39:39,445] Trial 41 finished with value: 0.5615174299384825 and parameters: {'max_depth': 12, 'learning_rate': 0.12795468663018608, 'n_estimators': 473, 'subsample': 0.8534348590932834, 'colsample_bytree': 0.9040739801929114, 'gamma': 0.18005574916531225, 'reg_alpha': 0.5474004401460582, 'reg_lambda': 6.028148107278421}. Best is trial 15 with value: 0.5980861244019138.\n",
      "[I 2024-11-17 00:39:41,982] Trial 42 finished with value: 0.579835953520164 and parameters: {'max_depth': 12, 'learning_rate': 0.12288972178215474, 'n_estimators': 483, 'subsample': 0.84692590259509, 'colsample_bytree': 0.866697841685461, 'gamma': 0.06538524165651102, 'reg_alpha': 1.0465733125515988, 'reg_lambda': 7.909889894233135}. Best is trial 15 with value: 0.5980861244019138.\n",
      "[I 2024-11-17 00:39:44,013] Trial 43 finished with value: 0.5433014354066985 and parameters: {'max_depth': 13, 'learning_rate': 0.06620251989312774, 'n_estimators': 449, 'subsample': 0.81404843139991, 'colsample_bytree': 0.8982420874865608, 'gamma': 0.6971679455489819, 'reg_alpha': 0.30154906360335826, 'reg_lambda': 6.229278589634848}. Best is trial 15 with value: 0.5980861244019138.\n",
      "[I 2024-11-17 00:39:45,867] Trial 44 finished with value: 0.5301093643198905 and parameters: {'max_depth': 11, 'learning_rate': 0.09999753332298905, 'n_estimators': 500, 'subsample': 0.884468623980425, 'colsample_bytree': 0.9525187144055323, 'gamma': 0.43230668637871894, 'reg_alpha': 2.1784333957196793, 'reg_lambda': 5.327695088091222}. Best is trial 15 with value: 0.5980861244019138.\n",
      "[I 2024-11-17 00:39:48,039] Trial 45 finished with value: 0.5640806561859193 and parameters: {'max_depth': 12, 'learning_rate': 0.14173011542344938, 'n_estimators': 447, 'subsample': 0.9244485115250265, 'colsample_bytree': 0.820458566555188, 'gamma': 0.2699522028465469, 'reg_alpha': 0.9362592918995138, 'reg_lambda': 6.9877243425656}. Best is trial 15 with value: 0.5980861244019138.\n",
      "[I 2024-11-17 00:39:49,676] Trial 46 finished with value: 0.31332877648667123 and parameters: {'max_depth': 14, 'learning_rate': 0.16268096972008414, 'n_estimators': 421, 'subsample': 0.6872462320280746, 'colsample_bytree': 0.9330889652866333, 'gamma': 4.324614263760603, 'reg_alpha': 9.470128215788089, 'reg_lambda': 5.439365240066114}. Best is trial 15 with value: 0.5980861244019138.\n",
      "[I 2024-11-17 00:39:51,584] Trial 47 finished with value: 0.4595693779904306 and parameters: {'max_depth': 10, 'learning_rate': 0.12023907182843786, 'n_estimators': 484, 'subsample': 0.958621943908436, 'colsample_bytree': 0.9776007168940585, 'gamma': 1.2240961447981766, 'reg_alpha': 2.737403449053904, 'reg_lambda': 6.389715180708821}. Best is trial 15 with value: 0.5980861244019138.\n",
      "[I 2024-11-17 00:39:53,123] Trial 48 finished with value: 0.3654477101845523 and parameters: {'max_depth': 9, 'learning_rate': 0.21220559779935896, 'n_estimators': 459, 'subsample': 0.6390270219910381, 'colsample_bytree': 0.7909717600451911, 'gamma': 0.8333382500133986, 'reg_alpha': 7.321602531765459, 'reg_lambda': 3.802622157120898}. Best is trial 15 with value: 0.5980861244019138.\n",
      "[I 2024-11-17 00:39:54,908] Trial 49 finished with value: 0.5536568694463432 and parameters: {'max_depth': 11, 'learning_rate': 0.1753646225314254, 'n_estimators': 392, 'subsample': 0.8486710194914521, 'colsample_bytree': 0.871091993278873, 'gamma': 0.4638408047999709, 'reg_alpha': 1.5787868551702693, 'reg_lambda': 2.411410359857319}. Best is trial 15 with value: 0.5980861244019138.\n"
     ]
    },
    {
     "name": "stdout",
     "output_type": "stream",
     "text": [
      "Best Params: {'max_depth': 10, 'learning_rate': 0.16448093530100713, 'n_estimators': 495, 'subsample': 0.8641545932371121, 'colsample_bytree': 0.7755086140866356, 'gamma': 0.02186238870915474, 'reg_alpha': 1.2526083263937413, 'reg_lambda': 3.4393688635155324}\n"
     ]
    }
   ],
   "source": [
    "# Define Optuna objective function\n",
    "def objective(trial):\n",
    "    params = {\n",
    "        'max_depth': trial.suggest_int('max_depth', 3, 15),\n",
    "        'learning_rate': trial.suggest_float('learning_rate', 0.01, 0.3),\n",
    "        'n_estimators': trial.suggest_int('n_estimators', 50, 500),\n",
    "        'subsample': trial.suggest_float('subsample', 0.5, 1.0),\n",
    "        'colsample_bytree': trial.suggest_float('colsample_bytree', 0.5, 1.0),\n",
    "        'gamma': trial.suggest_float('gamma', 0, 5),\n",
    "        'reg_alpha': trial.suggest_float('reg_alpha', 0, 10),\n",
    "        'reg_lambda': trial.suggest_float('reg_lambda', 0, 10)\n",
    "    }\n",
    "\n",
    "    # Cross-validation\n",
    "    skf = StratifiedKFold(n_splits=5, shuffle=True, random_state=42)\n",
    "    accuracy_scores = []\n",
    "\n",
    "    for train_idx, test_idx in skf.split(X, y):\n",
    "        X_train, X_test = X.iloc[train_idx], X.iloc[test_idx]\n",
    "        y_train, y_test = y.iloc[train_idx], y.iloc[test_idx]\n",
    "\n",
    "        model = XGBClassifier(**params, random_state=42, enable_categorical=True)\n",
    "        model.fit(X_train, y_train, sample_weight=sample_weights.iloc[train_idx])\n",
    "        y_pred = model.predict(X_test)\n",
    "        accuracy_scores.append(accuracy_score(y_test, y_pred))\n",
    "\n",
    "    return np.mean(accuracy_scores)\n",
    "\n",
    "# Run Optuna\n",
    "study = optuna.create_study(direction='maximize')\n",
    "study.optimize(objective, n_trials=50)\n",
    "print(\"Best Params:\", study.best_params)\n",
    "    "
   ]
  },
  {
   "cell_type": "markdown",
   "id": "a61ecfcc",
   "metadata": {},
   "source": [
    "## Train Final Model and Evaluate"
   ]
  },
  {
   "cell_type": "code",
   "execution_count": 5,
   "id": "20bb7de1",
   "metadata": {},
   "outputs": [
    {
     "name": "stdout",
     "output_type": "stream",
     "text": [
      "Model Performance:\n",
      "Accuracy:  0.935064935064935\n",
      "\n",
      "Tumor Classification Report:\n",
      "              precision    recall  f1-score   support\n",
      "\n",
      "           0       1.00      1.00      1.00        10\n",
      "           1       1.00      0.67      0.80         9\n",
      "           2       0.88      1.00      0.94        30\n",
      "           3       1.00      0.95      0.97        19\n",
      "           4       1.00      1.00      1.00         3\n",
      "           5       0.80      1.00      0.89         4\n",
      "           6       1.00      0.50      0.67         2\n",
      "\n",
      "    accuracy                           0.94        77\n",
      "   macro avg       0.95      0.87      0.90        77\n",
      "weighted avg       0.94      0.94      0.93        77\n",
      "\n",
      "Confusion Matrix:\n",
      "[[10  0  0  0  0  0  0]\n",
      " [ 0  6  3  0  0  0  0]\n",
      " [ 0  0 30  0  0  0  0]\n",
      " [ 0  0  1 18  0  0  0]\n",
      " [ 0  0  0  0  3  0  0]\n",
      " [ 0  0  0  0  0  4  0]\n",
      " [ 0  0  0  0  0  1  1]]\n"
     ]
    }
   ],
   "source": [
    "# Train final model on the best parameters\n",
    "best_params = study.best_params\n",
    "final_model = XGBClassifier(**best_params, random_state=42, enable_categorical=True)\n",
    "final_model.fit(X, y)\n",
    "\n",
    "# Evaluate on the original test set\n",
    "X_train, X_test, y_train, y_test = train_test_split(X, y, test_size=0.2, stratify=y, random_state=42)\n",
    "y_pred = final_model.predict(X_test)\n",
    "\n",
    "print(\"Model Performance:\")\n",
    "print('Accuracy: ', accuracy_score(y_test, y_pred))\n",
    "\n",
    "print(\"\\nTumor Classification Report:\")\n",
    "print(classification_report(y_test, y_pred, zero_division=0))\n",
    "print(\"Confusion Matrix:\")\n",
    "print(confusion_matrix(y_test, y_pred))"
   ]
  }
 ],
 "metadata": {
  "kernelspec": {
   "display_name": "base",
   "language": "python",
   "name": "python3"
  },
  "language_info": {
   "codemirror_mode": {
    "name": "ipython",
    "version": 3
   },
   "file_extension": ".py",
   "mimetype": "text/x-python",
   "name": "python",
   "nbconvert_exporter": "python",
   "pygments_lexer": "ipython3",
   "version": "3.12.4"
  }
 },
 "nbformat": 4,
 "nbformat_minor": 5
}
